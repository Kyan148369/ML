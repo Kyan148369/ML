{
 "cells": [
  {
   "cell_type": "code",
   "execution_count": 1,
   "id": "b8dca89a",
   "metadata": {
    "execution": {
     "iopub.execute_input": "2024-03-02T11:36:08.854916Z",
     "iopub.status.busy": "2024-03-02T11:36:08.854501Z",
     "iopub.status.idle": "2024-03-02T11:36:08.861606Z",
     "shell.execute_reply": "2024-03-02T11:36:08.860266Z"
    },
    "papermill": {
     "duration": 0.014957,
     "end_time": "2024-03-02T11:36:08.864291",
     "exception": false,
     "start_time": "2024-03-02T11:36:08.849334",
     "status": "completed"
    },
    "tags": []
   },
   "outputs": [],
   "source": [
    "#Trying to implemenet a basic version of segmentation and denoising over here"
   ]
  },
  {
   "cell_type": "code",
   "execution_count": 2,
   "id": "5f5dd74b",
   "metadata": {
    "execution": {
     "iopub.execute_input": "2024-03-02T11:36:08.871465Z",
     "iopub.status.busy": "2024-03-02T11:36:08.871071Z",
     "iopub.status.idle": "2024-03-02T11:36:10.321602Z",
     "shell.execute_reply": "2024-03-02T11:36:10.320154Z"
    },
    "papermill": {
     "duration": 1.457725,
     "end_time": "2024-03-02T11:36:10.324856",
     "exception": false,
     "start_time": "2024-03-02T11:36:08.867131",
     "status": "completed"
    },
    "tags": []
   },
   "outputs": [],
   "source": [
    "import numpy as np\n",
    "import matplotlib.pyplot as plt\n",
    "\n",
    "from skimage import data, img_as_float\n",
    "from skimage.metrics import structural_similarity as ssim\n",
    "from skimage.metrics import mean_squared_error\n",
    "\n",
    "\n"
   ]
  },
  {
   "cell_type": "markdown",
   "id": "ef1358f5",
   "metadata": {
    "papermill": {
     "duration": 0.002182,
     "end_time": "2024-03-02T11:36:10.330165",
     "exception": false,
     "start_time": "2024-03-02T11:36:10.327983",
     "status": "completed"
    },
    "tags": []
   },
   "source": []
  },
  {
   "cell_type": "code",
   "execution_count": null,
   "id": "0bf52b2e",
   "metadata": {
    "papermill": {
     "duration": 0.002059,
     "end_time": "2024-03-02T11:36:10.334594",
     "exception": false,
     "start_time": "2024-03-02T11:36:10.332535",
     "status": "completed"
    },
    "tags": []
   },
   "outputs": [],
   "source": []
  }
 ],
 "metadata": {
  "kaggle": {
   "accelerator": "none",
   "dataSources": [
    {
     "datasetId": 137362,
     "sourceId": 325302,
     "sourceType": "datasetVersion"
    },
    {
     "datasetId": 4508749,
     "sourceId": 7719305,
     "sourceType": "datasetVersion"
    }
   ],
   "dockerImageVersionId": 30664,
   "isGpuEnabled": false,
   "isInternetEnabled": true,
   "language": "python",
   "sourceType": "notebook"
  },
  "kernelspec": {
   "display_name": "Python 3",
   "language": "python",
   "name": "python3"
  },
  "language_info": {
   "codemirror_mode": {
    "name": "ipython",
    "version": 3
   },
   "file_extension": ".py",
   "mimetype": "text/x-python",
   "name": "python",
   "nbconvert_exporter": "python",
   "pygments_lexer": "ipython3",
   "version": "3.10.13"
  },
  "papermill": {
   "default_parameters": {},
   "duration": 5.314415,
   "end_time": "2024-03-02T11:36:10.859842",
   "environment_variables": {},
   "exception": null,
   "input_path": "__notebook__.ipynb",
   "output_path": "__notebook__.ipynb",
   "parameters": {},
   "start_time": "2024-03-02T11:36:05.545427",
   "version": "2.5.0"
  }
 },
 "nbformat": 4,
 "nbformat_minor": 5
}
